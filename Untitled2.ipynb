{
 "cells": [
  {
   "cell_type": "code",
   "execution_count": null,
   "metadata": {},
   "outputs": [],
   "source": [
    "import turtle\n",
    "\n",
    "turtle.bgcolor(\"white\")\n",
    "turtle.pensize(2)\n",
    "\n",
    "b = turtle.Turtle()\n",
    "\n",
    "def square(length,angle):\n",
    "    b.forward(length)\n",
    "    b.left(angle)\n",
    "    b.forward(length)\n",
    "    b.left(angle)\n",
    "    b.forward(length)\n",
    "    b.left(angle)\n",
    "    b.forward(length)\n",
    "    b.left(angle)\n",
    "    \n",
    "def a(m,n):\n",
    "    b.left(m)\n",
    "    b.speed(n)\n",
    "for i in range(36):\n",
    "    square(100,90)\n",
    "    a(10,10)\n",
    "        \n",
    "for i in range(6):\n",
    "    square(100,90)\n",
    "    a(5,10)\n",
    "    \n",
    "turtle.exitonclick()"
   ]
  }
 ],
 "metadata": {
  "kernelspec": {
   "display_name": "Python 3",
   "language": "python",
   "name": "python3"
  },
  "language_info": {
   "codemirror_mode": {
    "name": "ipython",
    "version": 3
   },
   "file_extension": ".py",
   "mimetype": "text/x-python",
   "name": "python",
   "nbconvert_exporter": "python",
   "pygments_lexer": "ipython3",
   "version": "3.7.3"
  }
 },
 "nbformat": 4,
 "nbformat_minor": 2
}
